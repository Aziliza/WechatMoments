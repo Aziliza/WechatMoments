{
 "cells": [
  {
   "cell_type": "markdown",
   "id": "705cb941",
   "metadata": {},
   "source": [
    "# 读数据"
   ]
  },
  {
   "cell_type": "code",
   "execution_count": 9,
   "id": "bad67d92",
   "metadata": {},
   "outputs": [
    {
     "name": "stderr",
     "output_type": "stream",
     "text": [
      "[-] WeChat Current Version Is Not Supported(not get account,mobile,nickname,mail)\n"
     ]
    },
    {
     "data": {
      "text/plain": [
       "{'pid': 25988,\n",
       " 'version': '3.9.12.51',\n",
       " 'account': None,\n",
       " 'mobile': None,\n",
       " 'nickname': None,\n",
       " 'mail': None,\n",
       " 'wxid': 'wxid_m6yq15lb7hs412',\n",
       " 'key': '4af3a9e8b0354087b8af060a5573637a074c65eb5ce1459abf829bba38fbb2fd',\n",
       " 'wx_dir': 'D:\\\\Temp\\\\WeChat Files\\\\wxid_m6yq15lb7hs412'}"
      ]
     },
     "execution_count": 9,
     "metadata": {},
     "output_type": "execute_result"
    }
   ],
   "source": [
    "import pywxdump\n",
    "\n",
    "wx_data=pywxdump.get_wx_info()[0]\n",
    "key=wx_data['key']\n",
    "wx_dir=wx_data['wx_dir']\n",
    "yourself=wx_data['wxid']\n",
    "# pywxdump.batch_decrypt(key,wx_dir+'\\\\Msg','./data',True)\n",
    "wx_data"
   ]
  },
  {
   "cell_type": "markdown",
   "id": "ca3f1376",
   "metadata": {},
   "source": [
    "# 洗数据"
   ]
  },
  {
   "cell_type": "code",
   "execution_count": 5,
   "id": "24dcdaae",
   "metadata": {},
   "outputs": [],
   "source": [
    "import sqlite3\n",
    "import pandas as pd\n",
    "import time\n",
    "\n",
    "# 连接到数据库\n",
    "conn = sqlite3.connect('./app/DataBase/Msg/MicroMsg.db')\n",
    "cursor = conn.cursor()\n",
    "name = pd.read_sql(\"SELECT userName, nickName, remark FROM Contact\", conn)\n",
    "# 关闭连接\n",
    "conn.close()\n",
    "name.dropna(inplace=True)\n",
    "name=name[name['Remark']!='']\n",
    "username2remark= dict(zip(name['UserName'], name['Remark']))\n",
    "username2remark.keys\n",
    "\n",
    "\n",
    "def timestamp2time(timestamp):\n",
    "    local_time = time.localtime(timestamp)  # 转换为本地时间结构\n",
    "    formatted_time = time.strftime(\"%Y-%m-%d %H:%M:%S\", local_time)\n",
    "    return formatted_time\n",
    "\n",
    "\n",
    "def show_table_with_pandas(db_path, table_name):\n",
    "    conn = sqlite3.connect(db_path)\n",
    "    \n",
    "    try:\n",
    "        # 使用 pandas 读取整个表\n",
    "        df = pd.read_sql(f\"SELECT * FROM {table_name};\", conn)\n",
    "        \n",
    "        # 显示数据\n",
    "        return df\n",
    "        \n",
    "    except sqlite3.Error as e:\n",
    "        print(f\"查询表数据时出错: {e}\")\n",
    "    finally:\n",
    "        conn.close()\n",
    "\n",
    "def id2name(id):\n",
    "    return username2remark[id] if id in username2remark.keys() else id\n",
    "\n",
    "\n",
    "def feeds_with_comments(feeds_df, comments_df):\n",
    "    comments_df['FromUserName'] = comments_df['FromUserName'].apply(id2name)\n",
    "    # comments_df = comments_df[comments_df['FromUserName'] != 'unknown']\n",
    "    feeds_df['UserName']= feeds_df['UserName'].apply(id2name)\n",
    "    # feeds_df = feeds_df[feeds_df['UserName'] != 'unknown']\n",
    "    feed_comments = []\n",
    "\n",
    "    for index, row in feeds_df.iterrows():\n",
    "        feedId=row['FeedId']\n",
    "        if feedId in comments_df['FeedId'].values:\n",
    "            comments= (comments_df[comments_df['FeedId'] == feedId]['FromUserName']).to_list()\n",
    "            feed_comments.append([row['UserName'],comments])\n",
    "    return pd.DataFrame(feed_comments, columns=['UserName', 'Comments'])"
   ]
  },
  {
   "cell_type": "code",
   "execution_count": 6,
   "id": "22ac7eea",
   "metadata": {},
   "outputs": [
    {
     "data": {
      "text/html": [
       "<div>\n",
       "<style scoped>\n",
       "    .dataframe tbody tr th:only-of-type {\n",
       "        vertical-align: middle;\n",
       "    }\n",
       "\n",
       "    .dataframe tbody tr th {\n",
       "        vertical-align: top;\n",
       "    }\n",
       "\n",
       "    .dataframe thead th {\n",
       "        text-align: right;\n",
       "    }\n",
       "</style>\n",
       "<table border=\"1\" class=\"dataframe\">\n",
       "  <thead>\n",
       "    <tr style=\"text-align: right;\">\n",
       "      <th></th>\n",
       "      <th>UserName</th>\n",
       "      <th>Comments</th>\n",
       "    </tr>\n",
       "  </thead>\n",
       "  <tbody>\n",
       "    <tr>\n",
       "      <th>0</th>\n",
       "      <td>陈佳怡</td>\n",
       "      <td>[李梓棋, 陈佳怡, 李梓棋]</td>\n",
       "    </tr>\n",
       "    <tr>\n",
       "      <th>1</th>\n",
       "      <td>吕博研</td>\n",
       "      <td>[王飒]</td>\n",
       "    </tr>\n",
       "    <tr>\n",
       "      <th>2</th>\n",
       "      <td>流统伏梦婷</td>\n",
       "      <td>[欧阳志欣, 流统伏梦婷, 欧阳志欣, 流统白锦玲, 流统李佳潞, 邹明君专硕1808920...</td>\n",
       "    </tr>\n",
       "    <tr>\n",
       "      <th>3</th>\n",
       "      <td>流统伏梦婷</td>\n",
       "      <td>[欧阳志欣, 流统伏梦婷, 邹明君专硕18089204572, 流统伏梦婷, 邹明君专硕18...</td>\n",
       "    </tr>\n",
       "    <tr>\n",
       "      <th>4</th>\n",
       "      <td>王慧慧</td>\n",
       "      <td>[王慧慧, 谢晓玉, 张婷]</td>\n",
       "    </tr>\n",
       "    <tr>\n",
       "      <th>...</th>\n",
       "      <td>...</td>\n",
       "      <td>...</td>\n",
       "    </tr>\n",
       "    <tr>\n",
       "      <th>441</th>\n",
       "      <td>刘柯含</td>\n",
       "      <td>[wxid_m6yq15lb7hs412]</td>\n",
       "    </tr>\n",
       "    <tr>\n",
       "      <th>442</th>\n",
       "      <td>唐诗诗</td>\n",
       "      <td>[唐诗诗, 王烨云, 何艳飞, 舒一鸣]</td>\n",
       "    </tr>\n",
       "    <tr>\n",
       "      <th>443</th>\n",
       "      <td>贾旖旗</td>\n",
       "      <td>[陈适航 计算机, wxid_m6yq15lb7hs412, wxid_ywp84u9myg...</td>\n",
       "    </tr>\n",
       "    <tr>\n",
       "      <th>444</th>\n",
       "      <td>李珂</td>\n",
       "      <td>[蒋楷杰, 李珂, 蒋楷杰]</td>\n",
       "    </tr>\n",
       "    <tr>\n",
       "      <th>445</th>\n",
       "      <td>王芳-付姥姥驿站主理人</td>\n",
       "      <td>[王芳-付姥姥驿站主理人, 王芳-付姥姥驿站主理人, 王芳-付姥姥驿站主理人]</td>\n",
       "    </tr>\n",
       "  </tbody>\n",
       "</table>\n",
       "<p>446 rows × 2 columns</p>\n",
       "</div>"
      ],
      "text/plain": [
       "        UserName                                           Comments\n",
       "0            陈佳怡                                    [李梓棋, 陈佳怡, 李梓棋]\n",
       "1            吕博研                                               [王飒]\n",
       "2          流统伏梦婷  [欧阳志欣, 流统伏梦婷, 欧阳志欣, 流统白锦玲, 流统李佳潞, 邹明君专硕1808920...\n",
       "3          流统伏梦婷  [欧阳志欣, 流统伏梦婷, 邹明君专硕18089204572, 流统伏梦婷, 邹明君专硕18...\n",
       "4            王慧慧                                     [王慧慧, 谢晓玉, 张婷]\n",
       "..           ...                                                ...\n",
       "441          刘柯含                              [wxid_m6yq15lb7hs412]\n",
       "442          唐诗诗                               [唐诗诗, 王烨云, 何艳飞, 舒一鸣]\n",
       "443          贾旖旗  [陈适航 计算机, wxid_m6yq15lb7hs412, wxid_ywp84u9myg...\n",
       "444           李珂                                     [蒋楷杰, 李珂, 蒋楷杰]\n",
       "445  王芳-付姥姥驿站主理人            [王芳-付姥姥驿站主理人, 王芳-付姥姥驿站主理人, 王芳-付姥姥驿站主理人]\n",
       "\n",
       "[446 rows x 2 columns]"
      ]
     },
     "execution_count": 6,
     "metadata": {},
     "output_type": "execute_result"
    }
   ],
   "source": [
    "feeds_df=show_table_with_pandas('./app/DataBase/Msg/Sns.db', 'FeedsV20')\n",
    "comments_df=show_table_with_pandas('./app/DataBase/Msg/Sns.db', 'CommentV20')\n",
    "feeds2comments=feeds_with_comments(feeds_df, comments_df)\n",
    "feeds2comments"
   ]
  },
  {
   "cell_type": "code",
   "execution_count": 7,
   "id": "dcb93685",
   "metadata": {},
   "outputs": [],
   "source": [
    "import networkx as nx\n",
    "import pandas as pd\n",
    "import os\n",
    "\n",
    "# 假设你的数据是这样的\n",
    "data = feeds2comments\n",
    "df = pd.DataFrame(data)\n",
    "\n",
    "# 创建有向图\n",
    "if os.path.exists(\"graph.gexf\"):\n",
    "    G = nx.read_gexf(\"graph.gexf\")  # 读取\n",
    "else:\n",
    "    G = nx.Graph()\n",
    "# 添加节点和边\n",
    "for _, row in df.iterrows():\n",
    "    poster = row['UserName']\n",
    "    commenters = row['Comments']\n",
    "    \n",
    "    # 确保发帖人作为节点存在\n",
    "    G.add_node(poster)\n",
    "    \n",
    "    # 添加从评论者到发帖人的边\n",
    "    for commenter in commenters:\n",
    "        G.add_node(commenter)\n",
    "        G.add_edge(commenter, poster)\n",
    "G.remove_node(yourself)\n",
    "nx.write_gexf(G, \"graph.gexf\")  # 保存"
   ]
  },
  {
   "cell_type": "code",
   "execution_count": 8,
   "id": "d5b3a74c",
   "metadata": {},
   "outputs": [
    {
     "name": "stdout",
     "output_type": "stream",
     "text": [
      "Warning: When  cdn_resources is 'local' jupyter notebook has issues displaying graphics on chrome/safari. Use cdn_resources='in_line' or cdn_resources='remote' if you have issues viewing graphics in a notebook.\n",
      "comment_network.html\n"
     ]
    },
    {
     "data": {
      "text/html": [
       "\n",
       "        <iframe\n",
       "            width=\"100%\"\n",
       "            height=\"750px\"\n",
       "            src=\"comment_network.html\"\n",
       "            frameborder=\"0\"\n",
       "            allowfullscreen\n",
       "            \n",
       "        ></iframe>\n",
       "        "
      ],
      "text/plain": [
       "<IPython.lib.display.IFrame at 0x2d14c9cb470>"
      ]
     },
     "execution_count": 8,
     "metadata": {},
     "output_type": "execute_result"
    }
   ],
   "source": [
    "'''\n",
    "Author: qianyu\n",
    "Date: 2025-06-30 21:23:09\n",
    "LastEditTime: 2025-07-05 23:07:55\n",
    "'''\n",
    "from pyvis.network import Network\n",
    "\n",
    "net = Network(notebook=True, directed=False, height=\"750px\", width=\"100%\")\n",
    "net.from_nx(G)\n",
    "net.show_buttons(filter_=['physics'])  # 显示控制按钮\n",
    "net.show(\"comment_network.html\")  # 生成HTML文件"
   ]
  }
 ],
 "metadata": {
  "kernelspec": {
   "display_name": "uwa",
   "language": "python",
   "name": "python3"
  },
  "language_info": {
   "codemirror_mode": {
    "name": "ipython",
    "version": 3
   },
   "file_extension": ".py",
   "mimetype": "text/x-python",
   "name": "python",
   "nbconvert_exporter": "python",
   "pygments_lexer": "ipython3",
   "version": "3.12.3"
  }
 },
 "nbformat": 4,
 "nbformat_minor": 5
}
